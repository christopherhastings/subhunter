{
 "cells": [
  {
   "cell_type": "code",
   "execution_count": 34,
   "metadata": {},
   "outputs": [],
   "source": [
    "import pysrt\n",
    "import pandas as pd\n",
    "\n",
    "pd.set_option('display.max_rows', None)"
   ]
  },
  {
   "cell_type": "code",
   "execution_count": 35,
   "metadata": {},
   "outputs": [],
   "source": [
    "# This is the array of your movie SRT files. \n",
    "movie_list = ['SRT/The.Shawshank.Redemption.1994.1080p.x264.YIFY.srt','SRT/Batman.The.Dark.Knight.2008.1080p.BluRay.x264.YIFY.srt','SRT/V.For.Vendetta.2006.1080p.BrRip.x264.YIFY.srt','SRT/Armageddon.1998.1080p.BrRip.x264.YIFY.srt']\n"
   ]
  },
  {
   "cell_type": "code",
   "execution_count": 36,
   "metadata": {},
   "outputs": [],
   "source": [
    "def word_search(word, movie_list):\n",
    "    for x in movie_list:\n",
    "        final_df = movie_search(x)\n",
    "        display(x)\n",
    "        display(final_df[final_df['Text'].str.contains(word)])"
   ]
  },
  {
   "cell_type": "code",
   "execution_count": 37,
   "metadata": {},
   "outputs": [],
   "source": [
    "def movie_search(sub):\n",
    "    subs = pysrt.open(str(sub), encoding='iso-8859-1')\n",
    "    final_df = pd.DataFrame(columns=['Start Hour','Start Min', 'Start Sec','End Hour', 'End Min', 'End Sec', 'Text'])\n",
    "\n",
    "    for line in subs: \n",
    "\n",
    "        to_append = [line.start.hours, line.start.minutes, line.start.seconds, line.end.hours, line.end.minutes,line.end.seconds,line.text]\n",
    "        df_length = len(final_df)\n",
    "        final_df.loc[df_length] = to_append\n",
    "    return final_df\n"
   ]
  },
  {
   "cell_type": "code",
   "execution_count": 38,
   "metadata": {
    "scrolled": true
   },
   "outputs": [
    {
     "data": {
      "text/plain": [
       "'SRT/The.Shawshank.Redemption.1994.1080p.x264.YIFY.srt'"
      ]
     },
     "metadata": {},
     "output_type": "display_data"
    },
    {
     "data": {
      "text/html": [
       "<div>\n",
       "<style scoped>\n",
       "    .dataframe tbody tr th:only-of-type {\n",
       "        vertical-align: middle;\n",
       "    }\n",
       "\n",
       "    .dataframe tbody tr th {\n",
       "        vertical-align: top;\n",
       "    }\n",
       "\n",
       "    .dataframe thead th {\n",
       "        text-align: right;\n",
       "    }\n",
       "</style>\n",
       "<table border=\"1\" class=\"dataframe\">\n",
       "  <thead>\n",
       "    <tr style=\"text-align: right;\">\n",
       "      <th></th>\n",
       "      <th>Start Hour</th>\n",
       "      <th>Start Min</th>\n",
       "      <th>Start Sec</th>\n",
       "      <th>End Hour</th>\n",
       "      <th>End Min</th>\n",
       "      <th>End Sec</th>\n",
       "      <th>Text</th>\n",
       "    </tr>\n",
       "  </thead>\n",
       "  <tbody>\n",
       "  </tbody>\n",
       "</table>\n",
       "</div>"
      ],
      "text/plain": [
       "Empty DataFrame\n",
       "Columns: [Start Hour, Start Min, Start Sec, End Hour, End Min, End Sec, Text]\n",
       "Index: []"
      ]
     },
     "metadata": {},
     "output_type": "display_data"
    },
    {
     "data": {
      "text/plain": [
       "'SRT/Batman.The.Dark.Knight.2008.1080p.BluRay.x264.YIFY.srt'"
      ]
     },
     "metadata": {},
     "output_type": "display_data"
    },
    {
     "data": {
      "text/html": [
       "<div>\n",
       "<style scoped>\n",
       "    .dataframe tbody tr th:only-of-type {\n",
       "        vertical-align: middle;\n",
       "    }\n",
       "\n",
       "    .dataframe tbody tr th {\n",
       "        vertical-align: top;\n",
       "    }\n",
       "\n",
       "    .dataframe thead th {\n",
       "        text-align: right;\n",
       "    }\n",
       "</style>\n",
       "<table border=\"1\" class=\"dataframe\">\n",
       "  <thead>\n",
       "    <tr style=\"text-align: right;\">\n",
       "      <th></th>\n",
       "      <th>Start Hour</th>\n",
       "      <th>Start Min</th>\n",
       "      <th>Start Sec</th>\n",
       "      <th>End Hour</th>\n",
       "      <th>End Min</th>\n",
       "      <th>End Sec</th>\n",
       "      <th>Text</th>\n",
       "    </tr>\n",
       "  </thead>\n",
       "  <tbody>\n",
       "  </tbody>\n",
       "</table>\n",
       "</div>"
      ],
      "text/plain": [
       "Empty DataFrame\n",
       "Columns: [Start Hour, Start Min, Start Sec, End Hour, End Min, End Sec, Text]\n",
       "Index: []"
      ]
     },
     "metadata": {},
     "output_type": "display_data"
    },
    {
     "data": {
      "text/plain": [
       "'SRT/V.For.Vendetta.2006.1080p.BrRip.x264.YIFY.srt'"
      ]
     },
     "metadata": {},
     "output_type": "display_data"
    },
    {
     "data": {
      "text/html": [
       "<div>\n",
       "<style scoped>\n",
       "    .dataframe tbody tr th:only-of-type {\n",
       "        vertical-align: middle;\n",
       "    }\n",
       "\n",
       "    .dataframe tbody tr th {\n",
       "        vertical-align: top;\n",
       "    }\n",
       "\n",
       "    .dataframe thead th {\n",
       "        text-align: right;\n",
       "    }\n",
       "</style>\n",
       "<table border=\"1\" class=\"dataframe\">\n",
       "  <thead>\n",
       "    <tr style=\"text-align: right;\">\n",
       "      <th></th>\n",
       "      <th>Start Hour</th>\n",
       "      <th>Start Min</th>\n",
       "      <th>Start Sec</th>\n",
       "      <th>End Hour</th>\n",
       "      <th>End Min</th>\n",
       "      <th>End Sec</th>\n",
       "      <th>Text</th>\n",
       "    </tr>\n",
       "  </thead>\n",
       "  <tbody>\n",
       "    <tr>\n",
       "      <th>877</th>\n",
       "      <td>0</td>\n",
       "      <td>53</td>\n",
       "      <td>11</td>\n",
       "      <td>0</td>\n",
       "      <td>53</td>\n",
       "      <td>16</td>\n",
       "      <td>FINCH: My God. He's killed them all.\\nDOMINIC:...</td>\n",
       "    </tr>\n",
       "  </tbody>\n",
       "</table>\n",
       "</div>"
      ],
      "text/plain": [
       "    Start Hour Start Min Start Sec End Hour End Min End Sec  \\\n",
       "877          0        53        11        0      53      16   \n",
       "\n",
       "                                                  Text  \n",
       "877  FINCH: My God. He's killed them all.\\nDOMINIC:...  "
      ]
     },
     "metadata": {},
     "output_type": "display_data"
    },
    {
     "data": {
      "text/plain": [
       "'SRT/Armageddon.1998.1080p.BrRip.x264.YIFY.srt'"
      ]
     },
     "metadata": {},
     "output_type": "display_data"
    },
    {
     "data": {
      "text/html": [
       "<div>\n",
       "<style scoped>\n",
       "    .dataframe tbody tr th:only-of-type {\n",
       "        vertical-align: middle;\n",
       "    }\n",
       "\n",
       "    .dataframe tbody tr th {\n",
       "        vertical-align: top;\n",
       "    }\n",
       "\n",
       "    .dataframe thead th {\n",
       "        text-align: right;\n",
       "    }\n",
       "</style>\n",
       "<table border=\"1\" class=\"dataframe\">\n",
       "  <thead>\n",
       "    <tr style=\"text-align: right;\">\n",
       "      <th></th>\n",
       "      <th>Start Hour</th>\n",
       "      <th>Start Min</th>\n",
       "      <th>Start Sec</th>\n",
       "      <th>End Hour</th>\n",
       "      <th>End Min</th>\n",
       "      <th>End Sec</th>\n",
       "      <th>Text</th>\n",
       "    </tr>\n",
       "  </thead>\n",
       "  <tbody>\n",
       "    <tr>\n",
       "      <th>154</th>\n",
       "      <td>0</td>\n",
       "      <td>11</td>\n",
       "      <td>38</td>\n",
       "      <td>0</td>\n",
       "      <td>11</td>\n",
       "      <td>42</td>\n",
       "      <td>My God. What do we do?</td>\n",
       "    </tr>\n",
       "  </tbody>\n",
       "</table>\n",
       "</div>"
      ],
      "text/plain": [
       "    Start Hour Start Min Start Sec End Hour End Min End Sec  \\\n",
       "154          0        11        38        0      11      42   \n",
       "\n",
       "                       Text  \n",
       "154  My God. What do we do?  "
      ]
     },
     "metadata": {},
     "output_type": "display_data"
    }
   ],
   "source": [
    "#\n",
    "# Add the word or phrase as the first positional argument. \n",
    "# The second positional argument is the link to an SRT file. \n",
    "# The second positional argument also supports an array of SRT files. \n",
    "#\n",
    "\n",
    "word_search(\"My God\", movie_list)\n"
   ]
  },
  {
   "cell_type": "code",
   "execution_count": null,
   "metadata": {},
   "outputs": [],
   "source": []
  }
 ],
 "metadata": {
  "kernelspec": {
   "display_name": "Python 3",
   "language": "python",
   "name": "python3"
  },
  "language_info": {
   "codemirror_mode": {
    "name": "ipython",
    "version": 3
   },
   "file_extension": ".py",
   "mimetype": "text/x-python",
   "name": "python",
   "nbconvert_exporter": "python",
   "pygments_lexer": "ipython3",
   "version": "3.6.4"
  }
 },
 "nbformat": 4,
 "nbformat_minor": 2
}
